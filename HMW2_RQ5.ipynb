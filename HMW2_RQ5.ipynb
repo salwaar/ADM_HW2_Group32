{
 "cells": [
  {
   "cell_type": "markdown",
   "metadata": {},
   "source": [
    "## RQ5:\n",
    "Does being a tall player mean winning more air duels?\n",
    "Make a plot that shows the dependency between height of the player and the ratio of air duels won with air duels attempted.The visualization should be a scatterplot, where each point (x,y) represent a player whose height is equal to x, and that has a ratio of winning air duels equal to y.\n",
    "color any point according an arbitrary selection of categories of height"
   ]
  },
  {
   "cell_type": "code",
   "execution_count": 2,
   "metadata": {},
   "outputs": [],
   "source": [
    "import pandas as pd \n",
    "import numpy as np\n",
    "import json\n",
    "import matplotlib.pyplot as plt\n",
    "\n",
    "%matplotlib inline"
   ]
  },
  {
   "cell_type": "code",
   "execution_count": 3,
   "metadata": {},
   "outputs": [],
   "source": [
    "events = pd.read_json(\"./DS/events//events_England.json\")\n"
   ]
  },
  {
   "cell_type": "code",
   "execution_count": 4,
   "metadata": {
    "scrolled": true
   },
   "outputs": [
    {
     "data": {
      "text/html": [
       "<div>\n",
       "<style scoped>\n",
       "    .dataframe tbody tr th:only-of-type {\n",
       "        vertical-align: middle;\n",
       "    }\n",
       "\n",
       "    .dataframe tbody tr th {\n",
       "        vertical-align: top;\n",
       "    }\n",
       "\n",
       "    .dataframe thead th {\n",
       "        text-align: right;\n",
       "    }\n",
       "</style>\n",
       "<table border=\"1\" class=\"dataframe\">\n",
       "  <thead>\n",
       "    <tr style=\"text-align: right;\">\n",
       "      <th></th>\n",
       "      <th>eventId</th>\n",
       "      <th>eventName</th>\n",
       "      <th>eventSec</th>\n",
       "      <th>id</th>\n",
       "      <th>matchId</th>\n",
       "      <th>matchPeriod</th>\n",
       "      <th>playerId</th>\n",
       "      <th>positions</th>\n",
       "      <th>subEventId</th>\n",
       "      <th>subEventName</th>\n",
       "      <th>tags</th>\n",
       "      <th>teamId</th>\n",
       "    </tr>\n",
       "  </thead>\n",
       "  <tbody>\n",
       "    <tr>\n",
       "      <th>0</th>\n",
       "      <td>8</td>\n",
       "      <td>Pass</td>\n",
       "      <td>2.758649</td>\n",
       "      <td>177959171</td>\n",
       "      <td>2499719</td>\n",
       "      <td>1H</td>\n",
       "      <td>25413</td>\n",
       "      <td>[{'y': 49, 'x': 49}, {'y': 78, 'x': 31}]</td>\n",
       "      <td>85</td>\n",
       "      <td>Simple pass</td>\n",
       "      <td>[{'id': 1801}]</td>\n",
       "      <td>1609</td>\n",
       "    </tr>\n",
       "    <tr>\n",
       "      <th>1</th>\n",
       "      <td>8</td>\n",
       "      <td>Pass</td>\n",
       "      <td>4.946850</td>\n",
       "      <td>177959172</td>\n",
       "      <td>2499719</td>\n",
       "      <td>1H</td>\n",
       "      <td>370224</td>\n",
       "      <td>[{'y': 78, 'x': 31}, {'y': 75, 'x': 51}]</td>\n",
       "      <td>83</td>\n",
       "      <td>High pass</td>\n",
       "      <td>[{'id': 1801}]</td>\n",
       "      <td>1609</td>\n",
       "    </tr>\n",
       "    <tr>\n",
       "      <th>2</th>\n",
       "      <td>8</td>\n",
       "      <td>Pass</td>\n",
       "      <td>6.542188</td>\n",
       "      <td>177959173</td>\n",
       "      <td>2499719</td>\n",
       "      <td>1H</td>\n",
       "      <td>3319</td>\n",
       "      <td>[{'y': 75, 'x': 51}, {'y': 71, 'x': 35}]</td>\n",
       "      <td>82</td>\n",
       "      <td>Head pass</td>\n",
       "      <td>[{'id': 1801}]</td>\n",
       "      <td>1609</td>\n",
       "    </tr>\n",
       "  </tbody>\n",
       "</table>\n",
       "</div>"
      ],
      "text/plain": [
       "   eventId eventName  eventSec         id  matchId matchPeriod  playerId  \\\n",
       "0        8      Pass  2.758649  177959171  2499719          1H     25413   \n",
       "1        8      Pass  4.946850  177959172  2499719          1H    370224   \n",
       "2        8      Pass  6.542188  177959173  2499719          1H      3319   \n",
       "\n",
       "                                  positions subEventId subEventName  \\\n",
       "0  [{'y': 49, 'x': 49}, {'y': 78, 'x': 31}]         85  Simple pass   \n",
       "1  [{'y': 78, 'x': 31}, {'y': 75, 'x': 51}]         83    High pass   \n",
       "2  [{'y': 75, 'x': 51}, {'y': 71, 'x': 35}]         82    Head pass   \n",
       "\n",
       "             tags  teamId  \n",
       "0  [{'id': 1801}]    1609  \n",
       "1  [{'id': 1801}]    1609  \n",
       "2  [{'id': 1801}]    1609  "
      ]
     },
     "execution_count": 4,
     "metadata": {},
     "output_type": "execute_result"
    }
   ],
   "source": [
    "events.head(3)"
   ]
  },
  {
   "cell_type": "code",
   "execution_count": 5,
   "metadata": {},
   "outputs": [],
   "source": [
    "#we need only air dual\n",
    "events= events[events['subEventName'].isin(['Air duel'])]"
   ]
  },
  {
   "cell_type": "code",
   "execution_count": 6,
   "metadata": {},
   "outputs": [
    {
     "data": {
      "text/html": [
       "<div>\n",
       "<style scoped>\n",
       "    .dataframe tbody tr th:only-of-type {\n",
       "        vertical-align: middle;\n",
       "    }\n",
       "\n",
       "    .dataframe tbody tr th {\n",
       "        vertical-align: top;\n",
       "    }\n",
       "\n",
       "    .dataframe thead th {\n",
       "        text-align: right;\n",
       "    }\n",
       "</style>\n",
       "<table border=\"1\" class=\"dataframe\">\n",
       "  <thead>\n",
       "    <tr style=\"text-align: right;\">\n",
       "      <th></th>\n",
       "      <th>eventId</th>\n",
       "      <th>eventName</th>\n",
       "      <th>eventSec</th>\n",
       "      <th>id</th>\n",
       "      <th>matchId</th>\n",
       "      <th>matchPeriod</th>\n",
       "      <th>playerId</th>\n",
       "      <th>positions</th>\n",
       "      <th>subEventId</th>\n",
       "      <th>subEventName</th>\n",
       "      <th>tags</th>\n",
       "      <th>teamId</th>\n",
       "    </tr>\n",
       "  </thead>\n",
       "  <tbody>\n",
       "    <tr>\n",
       "      <th>7</th>\n",
       "      <td>1</td>\n",
       "      <td>Duel</td>\n",
       "      <td>14.765321</td>\n",
       "      <td>177959189</td>\n",
       "      <td>2499719</td>\n",
       "      <td>1H</td>\n",
       "      <td>8013</td>\n",
       "      <td>[{'y': 15, 'x': 39}, {'y': 20, 'x': 33}]</td>\n",
       "      <td>10</td>\n",
       "      <td>Air duel</td>\n",
       "      <td>[{'id': 701}, {'id': 1802}]</td>\n",
       "      <td>1631</td>\n",
       "    </tr>\n",
       "    <tr>\n",
       "      <th>8</th>\n",
       "      <td>1</td>\n",
       "      <td>Duel</td>\n",
       "      <td>14.765321</td>\n",
       "      <td>177961218</td>\n",
       "      <td>2499719</td>\n",
       "      <td>1H</td>\n",
       "      <td>0</td>\n",
       "      <td>[{'y': 85, 'x': 61}, {'y': 80, 'x': 67}]</td>\n",
       "      <td>10</td>\n",
       "      <td>Air duel</td>\n",
       "      <td>[{'id': 703}, {'id': 1801}]</td>\n",
       "      <td>1609</td>\n",
       "    </tr>\n",
       "    <tr>\n",
       "      <th>12</th>\n",
       "      <td>1</td>\n",
       "      <td>Duel</td>\n",
       "      <td>21.878309</td>\n",
       "      <td>177959191</td>\n",
       "      <td>2499719</td>\n",
       "      <td>1H</td>\n",
       "      <td>8653</td>\n",
       "      <td>[{'y': 46, 'x': 29}, {'y': 41, 'x': 50}]</td>\n",
       "      <td>10</td>\n",
       "      <td>Air duel</td>\n",
       "      <td>[{'id': 703}, {'id': 1801}]</td>\n",
       "      <td>1631</td>\n",
       "    </tr>\n",
       "  </tbody>\n",
       "</table>\n",
       "</div>"
      ],
      "text/plain": [
       "    eventId eventName   eventSec         id  matchId matchPeriod  playerId  \\\n",
       "7         1      Duel  14.765321  177959189  2499719          1H      8013   \n",
       "8         1      Duel  14.765321  177961218  2499719          1H         0   \n",
       "12        1      Duel  21.878309  177959191  2499719          1H      8653   \n",
       "\n",
       "                                   positions subEventId subEventName  \\\n",
       "7   [{'y': 15, 'x': 39}, {'y': 20, 'x': 33}]         10     Air duel   \n",
       "8   [{'y': 85, 'x': 61}, {'y': 80, 'x': 67}]         10     Air duel   \n",
       "12  [{'y': 46, 'x': 29}, {'y': 41, 'x': 50}]         10     Air duel   \n",
       "\n",
       "                           tags  teamId  \n",
       "7   [{'id': 701}, {'id': 1802}]    1631  \n",
       "8   [{'id': 703}, {'id': 1801}]    1609  \n",
       "12  [{'id': 703}, {'id': 1801}]    1631  "
      ]
     },
     "execution_count": 6,
     "metadata": {},
     "output_type": "execute_result"
    }
   ],
   "source": [
    "events.head(3)"
   ]
  },
  {
   "cell_type": "code",
   "execution_count": 7,
   "metadata": {},
   "outputs": [
    {
     "data": {
      "text/plain": [
       "Index(['eventId', 'eventName', 'eventSec', 'id', 'matchId', 'matchPeriod',\n",
       "       'playerId', 'positions', 'subEventId', 'subEventName', 'tags',\n",
       "       'teamId'],\n",
       "      dtype='object')"
      ]
     },
     "execution_count": 7,
     "metadata": {},
     "output_type": "execute_result"
    }
   ],
   "source": [
    "events.columns"
   ]
  },
  {
   "cell_type": "code",
   "execution_count": 8,
   "metadata": {},
   "outputs": [],
   "source": [
    "#Drop unnecessary columns\n",
    "events=events.drop(columns=['eventSec','id','matchId','matchId','eventName',\n",
    "                            'positions','matchPeriod','eventId','subEventId'])"
   ]
  },
  {
   "cell_type": "code",
   "execution_count": 9,
   "metadata": {},
   "outputs": [
    {
     "data": {
      "text/html": [
       "<div>\n",
       "<style scoped>\n",
       "    .dataframe tbody tr th:only-of-type {\n",
       "        vertical-align: middle;\n",
       "    }\n",
       "\n",
       "    .dataframe tbody tr th {\n",
       "        vertical-align: top;\n",
       "    }\n",
       "\n",
       "    .dataframe thead th {\n",
       "        text-align: right;\n",
       "    }\n",
       "</style>\n",
       "<table border=\"1\" class=\"dataframe\">\n",
       "  <thead>\n",
       "    <tr style=\"text-align: right;\">\n",
       "      <th></th>\n",
       "      <th>playerId</th>\n",
       "      <th>subEventName</th>\n",
       "      <th>tags</th>\n",
       "      <th>teamId</th>\n",
       "    </tr>\n",
       "  </thead>\n",
       "  <tbody>\n",
       "    <tr>\n",
       "      <th>7</th>\n",
       "      <td>8013</td>\n",
       "      <td>Air duel</td>\n",
       "      <td>[{'id': 701}, {'id': 1802}]</td>\n",
       "      <td>1631</td>\n",
       "    </tr>\n",
       "    <tr>\n",
       "      <th>8</th>\n",
       "      <td>0</td>\n",
       "      <td>Air duel</td>\n",
       "      <td>[{'id': 703}, {'id': 1801}]</td>\n",
       "      <td>1609</td>\n",
       "    </tr>\n",
       "    <tr>\n",
       "      <th>12</th>\n",
       "      <td>8653</td>\n",
       "      <td>Air duel</td>\n",
       "      <td>[{'id': 703}, {'id': 1801}]</td>\n",
       "      <td>1631</td>\n",
       "    </tr>\n",
       "  </tbody>\n",
       "</table>\n",
       "</div>"
      ],
      "text/plain": [
       "    playerId subEventName                         tags  teamId\n",
       "7       8013     Air duel  [{'id': 701}, {'id': 1802}]    1631\n",
       "8          0     Air duel  [{'id': 703}, {'id': 1801}]    1609\n",
       "12      8653     Air duel  [{'id': 703}, {'id': 1801}]    1631"
      ]
     },
     "execution_count": 9,
     "metadata": {},
     "output_type": "execute_result"
    }
   ],
   "source": [
    "events.head(3)"
   ]
  },
  {
   "cell_type": "code",
   "execution_count": 10,
   "metadata": {},
   "outputs": [],
   "source": [
    "player=pd.read_json('./DS/players.json')"
   ]
  },
  {
   "cell_type": "code",
   "execution_count": 11,
   "metadata": {},
   "outputs": [
    {
     "data": {
      "text/html": [
       "<div>\n",
       "<style scoped>\n",
       "    .dataframe tbody tr th:only-of-type {\n",
       "        vertical-align: middle;\n",
       "    }\n",
       "\n",
       "    .dataframe tbody tr th {\n",
       "        vertical-align: top;\n",
       "    }\n",
       "\n",
       "    .dataframe thead th {\n",
       "        text-align: right;\n",
       "    }\n",
       "</style>\n",
       "<table border=\"1\" class=\"dataframe\">\n",
       "  <thead>\n",
       "    <tr style=\"text-align: right;\">\n",
       "      <th></th>\n",
       "      <th>birthArea</th>\n",
       "      <th>birthDate</th>\n",
       "      <th>currentNationalTeamId</th>\n",
       "      <th>currentTeamId</th>\n",
       "      <th>firstName</th>\n",
       "      <th>foot</th>\n",
       "      <th>height</th>\n",
       "      <th>lastName</th>\n",
       "      <th>middleName</th>\n",
       "      <th>passportArea</th>\n",
       "      <th>role</th>\n",
       "      <th>shortName</th>\n",
       "      <th>weight</th>\n",
       "      <th>wyId</th>\n",
       "    </tr>\n",
       "  </thead>\n",
       "  <tbody>\n",
       "    <tr>\n",
       "      <th>0</th>\n",
       "      <td>{'name': 'Turkey', 'id': '792', 'alpha3code': ...</td>\n",
       "      <td>1989-06-17</td>\n",
       "      <td>4687</td>\n",
       "      <td>4502</td>\n",
       "      <td>Harun</td>\n",
       "      <td>right</td>\n",
       "      <td>187</td>\n",
       "      <td>Tekin</td>\n",
       "      <td></td>\n",
       "      <td>{'name': 'Turkey', 'id': '792', 'alpha3code': ...</td>\n",
       "      <td>{'code2': 'GK', 'code3': 'GKP', 'name': 'Goalk...</td>\n",
       "      <td>H. Tekin</td>\n",
       "      <td>78</td>\n",
       "      <td>32777</td>\n",
       "    </tr>\n",
       "    <tr>\n",
       "      <th>1</th>\n",
       "      <td>{'name': 'France', 'id': '250', 'alpha3code': ...</td>\n",
       "      <td>1999-01-23</td>\n",
       "      <td>4423</td>\n",
       "      <td>3775</td>\n",
       "      <td>Malang</td>\n",
       "      <td>left</td>\n",
       "      <td>182</td>\n",
       "      <td>Sarr</td>\n",
       "      <td></td>\n",
       "      <td>{'name': 'Senegal', 'id': '686', 'alpha3code':...</td>\n",
       "      <td>{'code2': 'DF', 'code3': 'DEF', 'name': 'Defen...</td>\n",
       "      <td>M. Sarr</td>\n",
       "      <td>73</td>\n",
       "      <td>393228</td>\n",
       "    </tr>\n",
       "  </tbody>\n",
       "</table>\n",
       "</div>"
      ],
      "text/plain": [
       "                                           birthArea   birthDate  \\\n",
       "0  {'name': 'Turkey', 'id': '792', 'alpha3code': ...  1989-06-17   \n",
       "1  {'name': 'France', 'id': '250', 'alpha3code': ...  1999-01-23   \n",
       "\n",
       "  currentNationalTeamId currentTeamId firstName   foot  height lastName  \\\n",
       "0                  4687          4502     Harun  right     187    Tekin   \n",
       "1                  4423          3775    Malang   left     182     Sarr   \n",
       "\n",
       "  middleName                                       passportArea  \\\n",
       "0             {'name': 'Turkey', 'id': '792', 'alpha3code': ...   \n",
       "1             {'name': 'Senegal', 'id': '686', 'alpha3code':...   \n",
       "\n",
       "                                                role shortName  weight    wyId  \n",
       "0  {'code2': 'GK', 'code3': 'GKP', 'name': 'Goalk...  H. Tekin      78   32777  \n",
       "1  {'code2': 'DF', 'code3': 'DEF', 'name': 'Defen...   M. Sarr      73  393228  "
      ]
     },
     "execution_count": 11,
     "metadata": {},
     "output_type": "execute_result"
    }
   ],
   "source": [
    "player.head(2)"
   ]
  },
  {
   "cell_type": "code",
   "execution_count": 12,
   "metadata": {},
   "outputs": [
    {
     "data": {
      "text/plain": [
       "Index(['birthArea', 'birthDate', 'currentNationalTeamId', 'currentTeamId',\n",
       "       'firstName', 'foot', 'height', 'lastName', 'middleName', 'passportArea',\n",
       "       'role', 'shortName', 'weight', 'wyId'],\n",
       "      dtype='object')"
      ]
     },
     "execution_count": 12,
     "metadata": {},
     "output_type": "execute_result"
    }
   ],
   "source": [
    "player.columns"
   ]
  },
  {
   "cell_type": "code",
   "execution_count": 13,
   "metadata": {},
   "outputs": [],
   "source": [
    "#Drop unnecessary columns\n",
    "player=player.drop(columns=['birthArea', 'birthDate', 'currentNationalTeamId',\n",
    "                          'foot', 'passportArea',\n",
    "       'role', 'lastName','middleName','firstName'])"
   ]
  },
  {
   "cell_type": "code",
   "execution_count": 14,
   "metadata": {},
   "outputs": [
    {
     "data": {
      "text/html": [
       "<div>\n",
       "<style scoped>\n",
       "    .dataframe tbody tr th:only-of-type {\n",
       "        vertical-align: middle;\n",
       "    }\n",
       "\n",
       "    .dataframe tbody tr th {\n",
       "        vertical-align: top;\n",
       "    }\n",
       "\n",
       "    .dataframe thead th {\n",
       "        text-align: right;\n",
       "    }\n",
       "</style>\n",
       "<table border=\"1\" class=\"dataframe\">\n",
       "  <thead>\n",
       "    <tr style=\"text-align: right;\">\n",
       "      <th></th>\n",
       "      <th>currentTeamId</th>\n",
       "      <th>height</th>\n",
       "      <th>shortName</th>\n",
       "      <th>weight</th>\n",
       "      <th>wyId</th>\n",
       "    </tr>\n",
       "  </thead>\n",
       "  <tbody>\n",
       "    <tr>\n",
       "      <th>0</th>\n",
       "      <td>4502</td>\n",
       "      <td>187</td>\n",
       "      <td>H. Tekin</td>\n",
       "      <td>78</td>\n",
       "      <td>32777</td>\n",
       "    </tr>\n",
       "    <tr>\n",
       "      <th>1</th>\n",
       "      <td>3775</td>\n",
       "      <td>182</td>\n",
       "      <td>M. Sarr</td>\n",
       "      <td>73</td>\n",
       "      <td>393228</td>\n",
       "    </tr>\n",
       "    <tr>\n",
       "      <th>2</th>\n",
       "      <td>3772</td>\n",
       "      <td>176</td>\n",
       "      <td>O. Mandanda</td>\n",
       "      <td>72</td>\n",
       "      <td>393230</td>\n",
       "    </tr>\n",
       "    <tr>\n",
       "      <th>3</th>\n",
       "      <td>683</td>\n",
       "      <td>187</td>\n",
       "      <td>A. N'Diaye</td>\n",
       "      <td>82</td>\n",
       "      <td>32793</td>\n",
       "    </tr>\n",
       "  </tbody>\n",
       "</table>\n",
       "</div>"
      ],
      "text/plain": [
       "  currentTeamId  height    shortName  weight    wyId\n",
       "0          4502     187     H. Tekin      78   32777\n",
       "1          3775     182      M. Sarr      73  393228\n",
       "2          3772     176  O. Mandanda      72  393230\n",
       "3           683     187   A. N'Diaye      82   32793"
      ]
     },
     "execution_count": 14,
     "metadata": {},
     "output_type": "execute_result"
    }
   ],
   "source": [
    "player.head(4)"
   ]
  },
  {
   "cell_type": "code",
   "execution_count": 15,
   "metadata": {},
   "outputs": [
    {
     "data": {
      "text/html": [
       "<div>\n",
       "<style scoped>\n",
       "    .dataframe tbody tr th:only-of-type {\n",
       "        vertical-align: middle;\n",
       "    }\n",
       "\n",
       "    .dataframe tbody tr th {\n",
       "        vertical-align: top;\n",
       "    }\n",
       "\n",
       "    .dataframe thead th {\n",
       "        text-align: right;\n",
       "    }\n",
       "</style>\n",
       "<table border=\"1\" class=\"dataframe\">\n",
       "  <thead>\n",
       "    <tr style=\"text-align: right;\">\n",
       "      <th></th>\n",
       "      <th>currentTeamId</th>\n",
       "      <th>height</th>\n",
       "      <th>shortName</th>\n",
       "      <th>weight</th>\n",
       "      <th>wyId</th>\n",
       "      <th>playerId</th>\n",
       "      <th>subEventName</th>\n",
       "      <th>tags</th>\n",
       "      <th>teamId</th>\n",
       "    </tr>\n",
       "  </thead>\n",
       "  <tbody>\n",
       "    <tr>\n",
       "      <th>0</th>\n",
       "      <td>1624</td>\n",
       "      <td>187</td>\n",
       "      <td>T. Alderweireld</td>\n",
       "      <td>91</td>\n",
       "      <td>36</td>\n",
       "      <td>36</td>\n",
       "      <td>Air duel</td>\n",
       "      <td>[{'id': 701}, {'id': 1802}]</td>\n",
       "      <td>1624</td>\n",
       "    </tr>\n",
       "    <tr>\n",
       "      <th>1</th>\n",
       "      <td>1624</td>\n",
       "      <td>187</td>\n",
       "      <td>T. Alderweireld</td>\n",
       "      <td>91</td>\n",
       "      <td>36</td>\n",
       "      <td>36</td>\n",
       "      <td>Air duel</td>\n",
       "      <td>[{'id': 701}, {'id': 1802}]</td>\n",
       "      <td>1624</td>\n",
       "    </tr>\n",
       "    <tr>\n",
       "      <th>2</th>\n",
       "      <td>1624</td>\n",
       "      <td>187</td>\n",
       "      <td>T. Alderweireld</td>\n",
       "      <td>91</td>\n",
       "      <td>36</td>\n",
       "      <td>36</td>\n",
       "      <td>Air duel</td>\n",
       "      <td>[{'id': 703}, {'id': 1801}]</td>\n",
       "      <td>1624</td>\n",
       "    </tr>\n",
       "    <tr>\n",
       "      <th>3</th>\n",
       "      <td>1624</td>\n",
       "      <td>187</td>\n",
       "      <td>T. Alderweireld</td>\n",
       "      <td>91</td>\n",
       "      <td>36</td>\n",
       "      <td>36</td>\n",
       "      <td>Air duel</td>\n",
       "      <td>[{'id': 703}, {'id': 1801}]</td>\n",
       "      <td>1624</td>\n",
       "    </tr>\n",
       "    <tr>\n",
       "      <th>4</th>\n",
       "      <td>1624</td>\n",
       "      <td>187</td>\n",
       "      <td>T. Alderweireld</td>\n",
       "      <td>91</td>\n",
       "      <td>36</td>\n",
       "      <td>36</td>\n",
       "      <td>Air duel</td>\n",
       "      <td>[{'id': 703}, {'id': 1801}]</td>\n",
       "      <td>1624</td>\n",
       "    </tr>\n",
       "  </tbody>\n",
       "</table>\n",
       "</div>"
      ],
      "text/plain": [
       "  currentTeamId  height        shortName  weight  wyId  playerId subEventName  \\\n",
       "0          1624     187  T. Alderweireld      91    36        36     Air duel   \n",
       "1          1624     187  T. Alderweireld      91    36        36     Air duel   \n",
       "2          1624     187  T. Alderweireld      91    36        36     Air duel   \n",
       "3          1624     187  T. Alderweireld      91    36        36     Air duel   \n",
       "4          1624     187  T. Alderweireld      91    36        36     Air duel   \n",
       "\n",
       "                          tags  teamId  \n",
       "0  [{'id': 701}, {'id': 1802}]    1624  \n",
       "1  [{'id': 701}, {'id': 1802}]    1624  \n",
       "2  [{'id': 703}, {'id': 1801}]    1624  \n",
       "3  [{'id': 703}, {'id': 1801}]    1624  \n",
       "4  [{'id': 703}, {'id': 1801}]    1624  "
      ]
     },
     "execution_count": 15,
     "metadata": {},
     "output_type": "execute_result"
    }
   ],
   "source": [
    "#merge playera table and events\n",
    "#to get Information about each player who did the Air duel\n",
    "player_event=pd.merge(player, events ,left_on='wyId', right_on='playerId')\n",
    "player_event.head(5)"
   ]
  },
  {
   "cell_type": "code",
   "execution_count": 16,
   "metadata": {},
   "outputs": [
    {
     "data": {
      "text/plain": [
       "Index(['currentTeamId', 'height', 'shortName', 'weight', 'wyId', 'playerId',\n",
       "       'subEventName', 'tags', 'teamId'],\n",
       "      dtype='object')"
      ]
     },
     "execution_count": 16,
     "metadata": {},
     "output_type": "execute_result"
    }
   ],
   "source": [
    "player_event.columns"
   ]
  },
  {
   "cell_type": "code",
   "execution_count": 17,
   "metadata": {},
   "outputs": [],
   "source": [
    "#Drop unnecessary columns\n",
    "player_event=player_event.drop(columns=['wyId','currentTeamId','weight'])"
   ]
  },
  {
   "cell_type": "code",
   "execution_count": 33,
   "metadata": {},
   "outputs": [
    {
     "data": {
      "text/html": [
       "<div>\n",
       "<style scoped>\n",
       "    .dataframe tbody tr th:only-of-type {\n",
       "        vertical-align: middle;\n",
       "    }\n",
       "\n",
       "    .dataframe tbody tr th {\n",
       "        vertical-align: top;\n",
       "    }\n",
       "\n",
       "    .dataframe thead th {\n",
       "        text-align: right;\n",
       "    }\n",
       "</style>\n",
       "<table border=\"1\" class=\"dataframe\">\n",
       "  <thead>\n",
       "    <tr style=\"text-align: right;\">\n",
       "      <th></th>\n",
       "      <th>height</th>\n",
       "      <th>shortName</th>\n",
       "      <th>playerId</th>\n",
       "      <th>subEventName</th>\n",
       "      <th>tags</th>\n",
       "      <th>teamId</th>\n",
       "    </tr>\n",
       "  </thead>\n",
       "  <tbody>\n",
       "    <tr>\n",
       "      <th>0</th>\n",
       "      <td>187</td>\n",
       "      <td>T. Alderweireld</td>\n",
       "      <td>36</td>\n",
       "      <td>Air duel</td>\n",
       "      <td>[{'id': 701}, {'id': 1802}]</td>\n",
       "      <td>1624</td>\n",
       "    </tr>\n",
       "    <tr>\n",
       "      <th>1</th>\n",
       "      <td>187</td>\n",
       "      <td>T. Alderweireld</td>\n",
       "      <td>36</td>\n",
       "      <td>Air duel</td>\n",
       "      <td>[{'id': 701}, {'id': 1802}]</td>\n",
       "      <td>1624</td>\n",
       "    </tr>\n",
       "    <tr>\n",
       "      <th>2</th>\n",
       "      <td>187</td>\n",
       "      <td>T. Alderweireld</td>\n",
       "      <td>36</td>\n",
       "      <td>Air duel</td>\n",
       "      <td>[{'id': 703}, {'id': 1801}]</td>\n",
       "      <td>1624</td>\n",
       "    </tr>\n",
       "  </tbody>\n",
       "</table>\n",
       "</div>"
      ],
      "text/plain": [
       "   height        shortName  playerId subEventName  \\\n",
       "0     187  T. Alderweireld        36     Air duel   \n",
       "1     187  T. Alderweireld        36     Air duel   \n",
       "2     187  T. Alderweireld        36     Air duel   \n",
       "\n",
       "                          tags  teamId  \n",
       "0  [{'id': 701}, {'id': 1802}]    1624  \n",
       "1  [{'id': 701}, {'id': 1802}]    1624  \n",
       "2  [{'id': 703}, {'id': 1801}]    1624  "
      ]
     },
     "execution_count": 33,
     "metadata": {},
     "output_type": "execute_result"
    }
   ],
   "source": [
    "player_event.head(3)"
   ]
  },
  {
   "cell_type": "code",
   "execution_count": 34,
   "metadata": {},
   "outputs": [],
   "source": [
    "teams=pd.read_json('./DS/teams.json')"
   ]
  },
  {
   "cell_type": "code",
   "execution_count": 35,
   "metadata": {},
   "outputs": [
    {
     "data": {
      "text/html": [
       "<div>\n",
       "<style scoped>\n",
       "    .dataframe tbody tr th:only-of-type {\n",
       "        vertical-align: middle;\n",
       "    }\n",
       "\n",
       "    .dataframe tbody tr th {\n",
       "        vertical-align: top;\n",
       "    }\n",
       "\n",
       "    .dataframe thead th {\n",
       "        text-align: right;\n",
       "    }\n",
       "</style>\n",
       "<table border=\"1\" class=\"dataframe\">\n",
       "  <thead>\n",
       "    <tr style=\"text-align: right;\">\n",
       "      <th></th>\n",
       "      <th>area</th>\n",
       "      <th>city</th>\n",
       "      <th>name</th>\n",
       "      <th>officialName</th>\n",
       "      <th>type</th>\n",
       "      <th>wyId</th>\n",
       "    </tr>\n",
       "  </thead>\n",
       "  <tbody>\n",
       "    <tr>\n",
       "      <th>0</th>\n",
       "      <td>{'name': 'England', 'id': '0', 'alpha3code': '...</td>\n",
       "      <td>Newcastle upon Tyne</td>\n",
       "      <td>Newcastle United</td>\n",
       "      <td>Newcastle United FC</td>\n",
       "      <td>club</td>\n",
       "      <td>1613</td>\n",
       "    </tr>\n",
       "    <tr>\n",
       "      <th>1</th>\n",
       "      <td>{'name': 'Spain', 'id': '724', 'alpha3code': '...</td>\n",
       "      <td>Vigo</td>\n",
       "      <td>Celta de Vigo</td>\n",
       "      <td>Real Club Celta de Vigo</td>\n",
       "      <td>club</td>\n",
       "      <td>692</td>\n",
       "    </tr>\n",
       "    <tr>\n",
       "      <th>2</th>\n",
       "      <td>{'name': 'Spain', 'id': '724', 'alpha3code': '...</td>\n",
       "      <td>Barcelona</td>\n",
       "      <td>Espanyol</td>\n",
       "      <td>Reial Club Deportiu Espanyol</td>\n",
       "      <td>club</td>\n",
       "      <td>691</td>\n",
       "    </tr>\n",
       "  </tbody>\n",
       "</table>\n",
       "</div>"
      ],
      "text/plain": [
       "                                                area                 city  \\\n",
       "0  {'name': 'England', 'id': '0', 'alpha3code': '...  Newcastle upon Tyne   \n",
       "1  {'name': 'Spain', 'id': '724', 'alpha3code': '...                 Vigo   \n",
       "2  {'name': 'Spain', 'id': '724', 'alpha3code': '...            Barcelona   \n",
       "\n",
       "               name                  officialName  type  wyId  \n",
       "0  Newcastle United           Newcastle United FC  club  1613  \n",
       "1     Celta de Vigo       Real Club Celta de Vigo  club   692  \n",
       "2          Espanyol  Reial Club Deportiu Espanyol  club   691  "
      ]
     },
     "execution_count": 35,
     "metadata": {},
     "output_type": "execute_result"
    }
   ],
   "source": [
    "teams.head(3)"
   ]
  },
  {
   "cell_type": "code",
   "execution_count": 36,
   "metadata": {
    "scrolled": true
   },
   "outputs": [],
   "source": [
    "#Since RQs Performed only over the Premier League so teams ids matched the players\n",
    "area=pd.DataFrame(list(teams['area']))"
   ]
  },
  {
   "cell_type": "code",
   "execution_count": 37,
   "metadata": {},
   "outputs": [],
   "source": [
    "teams=pd.concat([area, teams], axis=1)"
   ]
  },
  {
   "cell_type": "code",
   "execution_count": 38,
   "metadata": {},
   "outputs": [],
   "source": [
    "teams=teams.drop(columns=['officialName', 'area',\n",
    "                          'alpha3code', 'alpha2code','city'])"
   ]
  },
  {
   "cell_type": "code",
   "execution_count": 39,
   "metadata": {
    "scrolled": true
   },
   "outputs": [],
   "source": [
    "teams.columns=['id','Country ','TeamName','type','wyId']\n",
    "#only club teams \n",
    "teams = teams.drop(teams.index[teams.type == 'national'])\n"
   ]
  },
  {
   "cell_type": "code",
   "execution_count": 40,
   "metadata": {},
   "outputs": [],
   "source": [
    "#PL\n",
    "teams = teams[teams['Country '].isin(['England'])]"
   ]
  },
  {
   "cell_type": "code",
   "execution_count": 41,
   "metadata": {
    "scrolled": true
   },
   "outputs": [
    {
     "data": {
      "text/html": [
       "<div>\n",
       "<style scoped>\n",
       "    .dataframe tbody tr th:only-of-type {\n",
       "        vertical-align: middle;\n",
       "    }\n",
       "\n",
       "    .dataframe tbody tr th {\n",
       "        vertical-align: top;\n",
       "    }\n",
       "\n",
       "    .dataframe thead th {\n",
       "        text-align: right;\n",
       "    }\n",
       "</style>\n",
       "<table border=\"1\" class=\"dataframe\">\n",
       "  <thead>\n",
       "    <tr style=\"text-align: right;\">\n",
       "      <th></th>\n",
       "      <th>id</th>\n",
       "      <th>Country</th>\n",
       "      <th>TeamName</th>\n",
       "      <th>type</th>\n",
       "      <th>wyId</th>\n",
       "    </tr>\n",
       "  </thead>\n",
       "  <tbody>\n",
       "    <tr>\n",
       "      <th>0</th>\n",
       "      <td>0</td>\n",
       "      <td>England</td>\n",
       "      <td>Newcastle United</td>\n",
       "      <td>club</td>\n",
       "      <td>1613</td>\n",
       "    </tr>\n",
       "    <tr>\n",
       "      <th>8</th>\n",
       "      <td>0</td>\n",
       "      <td>England</td>\n",
       "      <td>Huddersfield Town</td>\n",
       "      <td>club</td>\n",
       "      <td>1673</td>\n",
       "    </tr>\n",
       "    <tr>\n",
       "      <th>26</th>\n",
       "      <td>0</td>\n",
       "      <td>England</td>\n",
       "      <td>AFC Bournemouth</td>\n",
       "      <td>club</td>\n",
       "      <td>1659</td>\n",
       "    </tr>\n",
       "  </tbody>\n",
       "</table>\n",
       "</div>"
      ],
      "text/plain": [
       "   id Country            TeamName  type  wyId\n",
       "0   0  England   Newcastle United  club  1613\n",
       "8   0  England  Huddersfield Town  club  1673\n",
       "26  0  England    AFC Bournemouth  club  1659"
      ]
     },
     "execution_count": 41,
     "metadata": {},
     "output_type": "execute_result"
    }
   ],
   "source": [
    "teams.head(3)"
   ]
  },
  {
   "cell_type": "code",
   "execution_count": 42,
   "metadata": {},
   "outputs": [],
   "source": [
    "#get players team's ids who matches PL team ids\n",
    "air_duals=pd.merge(teams, player_event, left_on='wyId', right_on='teamId')"
   ]
  },
  {
   "cell_type": "code",
   "execution_count": 43,
   "metadata": {
    "scrolled": true
   },
   "outputs": [
    {
     "data": {
      "text/html": [
       "<div>\n",
       "<style scoped>\n",
       "    .dataframe tbody tr th:only-of-type {\n",
       "        vertical-align: middle;\n",
       "    }\n",
       "\n",
       "    .dataframe tbody tr th {\n",
       "        vertical-align: top;\n",
       "    }\n",
       "\n",
       "    .dataframe thead th {\n",
       "        text-align: right;\n",
       "    }\n",
       "</style>\n",
       "<table border=\"1\" class=\"dataframe\">\n",
       "  <thead>\n",
       "    <tr style=\"text-align: right;\">\n",
       "      <th></th>\n",
       "      <th>id</th>\n",
       "      <th>Country</th>\n",
       "      <th>TeamName</th>\n",
       "      <th>type</th>\n",
       "      <th>wyId</th>\n",
       "      <th>height</th>\n",
       "      <th>shortName</th>\n",
       "      <th>playerId</th>\n",
       "      <th>subEventName</th>\n",
       "      <th>tags</th>\n",
       "      <th>teamId</th>\n",
       "    </tr>\n",
       "  </thead>\n",
       "  <tbody>\n",
       "    <tr>\n",
       "      <th>0</th>\n",
       "      <td>0</td>\n",
       "      <td>England</td>\n",
       "      <td>Newcastle United</td>\n",
       "      <td>club</td>\n",
       "      <td>1613</td>\n",
       "      <td>175</td>\n",
       "      <td>R. Aarons</td>\n",
       "      <td>337225</td>\n",
       "      <td>Air duel</td>\n",
       "      <td>[{'id': 702}, {'id': 1801}]</td>\n",
       "      <td>1613</td>\n",
       "    </tr>\n",
       "    <tr>\n",
       "      <th>1</th>\n",
       "      <td>0</td>\n",
       "      <td>England</td>\n",
       "      <td>Newcastle United</td>\n",
       "      <td>club</td>\n",
       "      <td>1613</td>\n",
       "      <td>175</td>\n",
       "      <td>R. Aarons</td>\n",
       "      <td>337225</td>\n",
       "      <td>Air duel</td>\n",
       "      <td>[{'id': 702}, {'id': 1801}]</td>\n",
       "      <td>1613</td>\n",
       "    </tr>\n",
       "    <tr>\n",
       "      <th>2</th>\n",
       "      <td>0</td>\n",
       "      <td>England</td>\n",
       "      <td>Newcastle United</td>\n",
       "      <td>club</td>\n",
       "      <td>1613</td>\n",
       "      <td>175</td>\n",
       "      <td>R. Aarons</td>\n",
       "      <td>337225</td>\n",
       "      <td>Air duel</td>\n",
       "      <td>[{'id': 1901}, {'id': 701}, {'id': 1802}]</td>\n",
       "      <td>1613</td>\n",
       "    </tr>\n",
       "    <tr>\n",
       "      <th>3</th>\n",
       "      <td>0</td>\n",
       "      <td>England</td>\n",
       "      <td>Newcastle United</td>\n",
       "      <td>club</td>\n",
       "      <td>1613</td>\n",
       "      <td>175</td>\n",
       "      <td>R. Aarons</td>\n",
       "      <td>337225</td>\n",
       "      <td>Air duel</td>\n",
       "      <td>[{'id': 703}, {'id': 1801}]</td>\n",
       "      <td>1613</td>\n",
       "    </tr>\n",
       "    <tr>\n",
       "      <th>4</th>\n",
       "      <td>0</td>\n",
       "      <td>England</td>\n",
       "      <td>Newcastle United</td>\n",
       "      <td>club</td>\n",
       "      <td>1613</td>\n",
       "      <td>175</td>\n",
       "      <td>R. Aarons</td>\n",
       "      <td>337225</td>\n",
       "      <td>Air duel</td>\n",
       "      <td>[{'id': 703}, {'id': 1801}]</td>\n",
       "      <td>1613</td>\n",
       "    </tr>\n",
       "  </tbody>\n",
       "</table>\n",
       "</div>"
      ],
      "text/plain": [
       "  id Country           TeamName  type  wyId  height  shortName  playerId  \\\n",
       "0  0  England  Newcastle United  club  1613     175  R. Aarons    337225   \n",
       "1  0  England  Newcastle United  club  1613     175  R. Aarons    337225   \n",
       "2  0  England  Newcastle United  club  1613     175  R. Aarons    337225   \n",
       "3  0  England  Newcastle United  club  1613     175  R. Aarons    337225   \n",
       "4  0  England  Newcastle United  club  1613     175  R. Aarons    337225   \n",
       "\n",
       "  subEventName                                       tags  teamId  \n",
       "0     Air duel                [{'id': 702}, {'id': 1801}]    1613  \n",
       "1     Air duel                [{'id': 702}, {'id': 1801}]    1613  \n",
       "2     Air duel  [{'id': 1901}, {'id': 701}, {'id': 1802}]    1613  \n",
       "3     Air duel                [{'id': 703}, {'id': 1801}]    1613  \n",
       "4     Air duel                [{'id': 703}, {'id': 1801}]    1613  "
      ]
     },
     "execution_count": 43,
     "metadata": {},
     "output_type": "execute_result"
    }
   ],
   "source": [
    "air_duals.head(5)"
   ]
  },
  {
   "cell_type": "code",
   "execution_count": 44,
   "metadata": {},
   "outputs": [
    {
     "data": {
      "text/html": [
       "<div>\n",
       "<style scoped>\n",
       "    .dataframe tbody tr th:only-of-type {\n",
       "        vertical-align: middle;\n",
       "    }\n",
       "\n",
       "    .dataframe tbody tr th {\n",
       "        vertical-align: top;\n",
       "    }\n",
       "\n",
       "    .dataframe thead th {\n",
       "        text-align: right;\n",
       "    }\n",
       "</style>\n",
       "<table border=\"1\" class=\"dataframe\">\n",
       "  <thead>\n",
       "    <tr style=\"text-align: right;\">\n",
       "      <th></th>\n",
       "      <th>Country</th>\n",
       "      <th>height</th>\n",
       "      <th>shortName</th>\n",
       "      <th>playerId</th>\n",
       "      <th>subEventName</th>\n",
       "      <th>tags</th>\n",
       "    </tr>\n",
       "  </thead>\n",
       "  <tbody>\n",
       "    <tr>\n",
       "      <th>0</th>\n",
       "      <td>England</td>\n",
       "      <td>175</td>\n",
       "      <td>R. Aarons</td>\n",
       "      <td>337225</td>\n",
       "      <td>Air duel</td>\n",
       "      <td>[{'id': 702}, {'id': 1801}]</td>\n",
       "    </tr>\n",
       "    <tr>\n",
       "      <th>1</th>\n",
       "      <td>England</td>\n",
       "      <td>175</td>\n",
       "      <td>R. Aarons</td>\n",
       "      <td>337225</td>\n",
       "      <td>Air duel</td>\n",
       "      <td>[{'id': 702}, {'id': 1801}]</td>\n",
       "    </tr>\n",
       "    <tr>\n",
       "      <th>2</th>\n",
       "      <td>England</td>\n",
       "      <td>175</td>\n",
       "      <td>R. Aarons</td>\n",
       "      <td>337225</td>\n",
       "      <td>Air duel</td>\n",
       "      <td>[{'id': 1901}, {'id': 701}, {'id': 1802}]</td>\n",
       "    </tr>\n",
       "  </tbody>\n",
       "</table>\n",
       "</div>"
      ],
      "text/plain": [
       "  Country   height  shortName  playerId subEventName  \\\n",
       "0  England     175  R. Aarons    337225     Air duel   \n",
       "1  England     175  R. Aarons    337225     Air duel   \n",
       "2  England     175  R. Aarons    337225     Air duel   \n",
       "\n",
       "                                        tags  \n",
       "0                [{'id': 702}, {'id': 1801}]  \n",
       "1                [{'id': 702}, {'id': 1801}]  \n",
       "2  [{'id': 1901}, {'id': 701}, {'id': 1802}]  "
      ]
     },
     "execution_count": 44,
     "metadata": {},
     "output_type": "execute_result"
    }
   ],
   "source": [
    "air_duals=air_duals.drop(columns=['id', 'wyId', 'TeamName','type','teamId'\n",
    "])\n",
    "air_duals.head(3)"
   ]
  },
  {
   "cell_type": "code",
   "execution_count": 45,
   "metadata": {},
   "outputs": [],
   "source": [
    "#new tag to Understand the meaning of the tags by adding PassResult Column \n",
    "q = [] #temporal col name\n",
    "for i in range(len(air_duals)): \n",
    "    q.append(air_duals.iloc[i, 5]) #At col pos 5\n",
    "        \n",
    "is_correct = [] \n",
    "for i in range(len(q)):\n",
    "    for j in range(len(q[i])):\n",
    "        d = q[i][j]\n",
    "        if d['id'] == 1801 or d['id'] == 1802:\n",
    "            is_correct.append(d['id'])\n",
    "\n",
    "air_duals['PassResult'] = is_correct # Let's add the column to the DF"
   ]
  },
  {
   "cell_type": "code",
   "execution_count": 46,
   "metadata": {},
   "outputs": [
    {
     "data": {
      "text/html": [
       "<div>\n",
       "<style scoped>\n",
       "    .dataframe tbody tr th:only-of-type {\n",
       "        vertical-align: middle;\n",
       "    }\n",
       "\n",
       "    .dataframe tbody tr th {\n",
       "        vertical-align: top;\n",
       "    }\n",
       "\n",
       "    .dataframe thead th {\n",
       "        text-align: right;\n",
       "    }\n",
       "</style>\n",
       "<table border=\"1\" class=\"dataframe\">\n",
       "  <thead>\n",
       "    <tr style=\"text-align: right;\">\n",
       "      <th></th>\n",
       "      <th>Country</th>\n",
       "      <th>height</th>\n",
       "      <th>shortName</th>\n",
       "      <th>playerId</th>\n",
       "      <th>subEventName</th>\n",
       "      <th>tags</th>\n",
       "      <th>PassResult</th>\n",
       "    </tr>\n",
       "  </thead>\n",
       "  <tbody>\n",
       "    <tr>\n",
       "      <th>0</th>\n",
       "      <td>England</td>\n",
       "      <td>175</td>\n",
       "      <td>R. Aarons</td>\n",
       "      <td>337225</td>\n",
       "      <td>Air duel</td>\n",
       "      <td>[{'id': 702}, {'id': 1801}]</td>\n",
       "      <td>1801</td>\n",
       "    </tr>\n",
       "    <tr>\n",
       "      <th>1</th>\n",
       "      <td>England</td>\n",
       "      <td>175</td>\n",
       "      <td>R. Aarons</td>\n",
       "      <td>337225</td>\n",
       "      <td>Air duel</td>\n",
       "      <td>[{'id': 702}, {'id': 1801}]</td>\n",
       "      <td>1801</td>\n",
       "    </tr>\n",
       "    <tr>\n",
       "      <th>2</th>\n",
       "      <td>England</td>\n",
       "      <td>175</td>\n",
       "      <td>R. Aarons</td>\n",
       "      <td>337225</td>\n",
       "      <td>Air duel</td>\n",
       "      <td>[{'id': 1901}, {'id': 701}, {'id': 1802}]</td>\n",
       "      <td>1802</td>\n",
       "    </tr>\n",
       "  </tbody>\n",
       "</table>\n",
       "</div>"
      ],
      "text/plain": [
       "  Country   height  shortName  playerId subEventName  \\\n",
       "0  England     175  R. Aarons    337225     Air duel   \n",
       "1  England     175  R. Aarons    337225     Air duel   \n",
       "2  England     175  R. Aarons    337225     Air duel   \n",
       "\n",
       "                                        tags  PassResult  \n",
       "0                [{'id': 702}, {'id': 1801}]        1801  \n",
       "1                [{'id': 702}, {'id': 1801}]        1801  \n",
       "2  [{'id': 1901}, {'id': 701}, {'id': 1802}]        1802  "
      ]
     },
     "execution_count": 46,
     "metadata": {},
     "output_type": "execute_result"
    }
   ],
   "source": [
    "air_duals.head(3)"
   ]
  },
  {
   "cell_type": "code",
   "execution_count": 47,
   "metadata": {},
   "outputs": [],
   "source": [
    "# literal description \n",
    "final_Result=[]\n",
    "for i in range(len(air_duals)):\n",
    "    if air_duals.PassResult.iloc[i] ==1801:\n",
    "        final_Result.append(\"Won\")\n",
    "    if air_duals.PassResult.iloc[i] ==1802:\n",
    "        final_Result.append(\"Lose\")\n",
    "air_duals[\"Final_Result\"]=final_Result"
   ]
  },
  {
   "cell_type": "code",
   "execution_count": 48,
   "metadata": {
    "scrolled": true
   },
   "outputs": [
    {
     "data": {
      "text/html": [
       "<div>\n",
       "<style scoped>\n",
       "    .dataframe tbody tr th:only-of-type {\n",
       "        vertical-align: middle;\n",
       "    }\n",
       "\n",
       "    .dataframe tbody tr th {\n",
       "        vertical-align: top;\n",
       "    }\n",
       "\n",
       "    .dataframe thead th {\n",
       "        text-align: right;\n",
       "    }\n",
       "</style>\n",
       "<table border=\"1\" class=\"dataframe\">\n",
       "  <thead>\n",
       "    <tr style=\"text-align: right;\">\n",
       "      <th></th>\n",
       "      <th>Country</th>\n",
       "      <th>height</th>\n",
       "      <th>shortName</th>\n",
       "      <th>playerId</th>\n",
       "      <th>subEventName</th>\n",
       "      <th>tags</th>\n",
       "      <th>PassResult</th>\n",
       "      <th>Final_Result</th>\n",
       "    </tr>\n",
       "  </thead>\n",
       "  <tbody>\n",
       "    <tr>\n",
       "      <th>0</th>\n",
       "      <td>England</td>\n",
       "      <td>175</td>\n",
       "      <td>R. Aarons</td>\n",
       "      <td>337225</td>\n",
       "      <td>Air duel</td>\n",
       "      <td>[{'id': 702}, {'id': 1801}]</td>\n",
       "      <td>1801</td>\n",
       "      <td>Won</td>\n",
       "    </tr>\n",
       "    <tr>\n",
       "      <th>1</th>\n",
       "      <td>England</td>\n",
       "      <td>175</td>\n",
       "      <td>R. Aarons</td>\n",
       "      <td>337225</td>\n",
       "      <td>Air duel</td>\n",
       "      <td>[{'id': 702}, {'id': 1801}]</td>\n",
       "      <td>1801</td>\n",
       "      <td>Won</td>\n",
       "    </tr>\n",
       "    <tr>\n",
       "      <th>2</th>\n",
       "      <td>England</td>\n",
       "      <td>175</td>\n",
       "      <td>R. Aarons</td>\n",
       "      <td>337225</td>\n",
       "      <td>Air duel</td>\n",
       "      <td>[{'id': 1901}, {'id': 701}, {'id': 1802}]</td>\n",
       "      <td>1802</td>\n",
       "      <td>Lose</td>\n",
       "    </tr>\n",
       "  </tbody>\n",
       "</table>\n",
       "</div>"
      ],
      "text/plain": [
       "  Country   height  shortName  playerId subEventName  \\\n",
       "0  England     175  R. Aarons    337225     Air duel   \n",
       "1  England     175  R. Aarons    337225     Air duel   \n",
       "2  England     175  R. Aarons    337225     Air duel   \n",
       "\n",
       "                                        tags  PassResult Final_Result  \n",
       "0                [{'id': 702}, {'id': 1801}]        1801          Won  \n",
       "1                [{'id': 702}, {'id': 1801}]        1801          Won  \n",
       "2  [{'id': 1901}, {'id': 701}, {'id': 1802}]        1802         Lose  "
      ]
     },
     "execution_count": 48,
     "metadata": {},
     "output_type": "execute_result"
    }
   ],
   "source": [
    "air_duals.head(3)"
   ]
  },
  {
   "cell_type": "code",
   "execution_count": 49,
   "metadata": {
    "scrolled": true
   },
   "outputs": [
    {
     "data": {
      "text/html": [
       "<div>\n",
       "<style scoped>\n",
       "    .dataframe tbody tr th:only-of-type {\n",
       "        vertical-align: middle;\n",
       "    }\n",
       "\n",
       "    .dataframe tbody tr th {\n",
       "        vertical-align: top;\n",
       "    }\n",
       "\n",
       "    .dataframe thead th {\n",
       "        text-align: right;\n",
       "    }\n",
       "</style>\n",
       "<table border=\"1\" class=\"dataframe\">\n",
       "  <thead>\n",
       "    <tr style=\"text-align: right;\">\n",
       "      <th></th>\n",
       "      <th>playerId</th>\n",
       "      <th>Final_Result</th>\n",
       "    </tr>\n",
       "  </thead>\n",
       "  <tbody>\n",
       "    <tr>\n",
       "      <th>0</th>\n",
       "      <td>337225</td>\n",
       "      <td>Won</td>\n",
       "    </tr>\n",
       "    <tr>\n",
       "      <th>1</th>\n",
       "      <td>337225</td>\n",
       "      <td>Won</td>\n",
       "    </tr>\n",
       "    <tr>\n",
       "      <th>2</th>\n",
       "      <td>337225</td>\n",
       "      <td>Lose</td>\n",
       "    </tr>\n",
       "    <tr>\n",
       "      <th>3</th>\n",
       "      <td>337225</td>\n",
       "      <td>Won</td>\n",
       "    </tr>\n",
       "    <tr>\n",
       "      <th>4</th>\n",
       "      <td>337225</td>\n",
       "      <td>Won</td>\n",
       "    </tr>\n",
       "  </tbody>\n",
       "</table>\n",
       "</div>"
      ],
      "text/plain": [
       "   playerId Final_Result\n",
       "0    337225          Won\n",
       "1    337225          Won\n",
       "2    337225         Lose\n",
       "3    337225          Won\n",
       "4    337225          Won"
      ]
     },
     "execution_count": 49,
     "metadata": {},
     "output_type": "execute_result"
    }
   ],
   "source": [
    "#new table contains : the number of total passes for each player \n",
    "player_tot_result=air_duals[['playerId', 'Final_Result']]\n",
    "#\n",
    "player_tot_result.head(5)"
   ]
  },
  {
   "cell_type": "code",
   "execution_count": 50,
   "metadata": {
    "scrolled": true
   },
   "outputs": [
    {
     "data": {
      "text/html": [
       "<div>\n",
       "<style scoped>\n",
       "    .dataframe tbody tr th:only-of-type {\n",
       "        vertical-align: middle;\n",
       "    }\n",
       "\n",
       "    .dataframe tbody tr th {\n",
       "        vertical-align: top;\n",
       "    }\n",
       "\n",
       "    .dataframe thead th {\n",
       "        text-align: right;\n",
       "    }\n",
       "</style>\n",
       "<table border=\"1\" class=\"dataframe\">\n",
       "  <thead>\n",
       "    <tr style=\"text-align: right;\">\n",
       "      <th></th>\n",
       "      <th>Final_Result</th>\n",
       "    </tr>\n",
       "    <tr>\n",
       "      <th>playerId</th>\n",
       "      <th></th>\n",
       "    </tr>\n",
       "  </thead>\n",
       "  <tbody>\n",
       "    <tr>\n",
       "      <th>36</th>\n",
       "      <td>55</td>\n",
       "    </tr>\n",
       "    <tr>\n",
       "      <th>38</th>\n",
       "      <td>19</td>\n",
       "    </tr>\n",
       "    <tr>\n",
       "      <th>48</th>\n",
       "      <td>213</td>\n",
       "    </tr>\n",
       "    <tr>\n",
       "      <th>54</th>\n",
       "      <td>52</td>\n",
       "    </tr>\n",
       "    <tr>\n",
       "      <th>56</th>\n",
       "      <td>8</td>\n",
       "    </tr>\n",
       "  </tbody>\n",
       "</table>\n",
       "</div>"
      ],
      "text/plain": [
       "          Final_Result\n",
       "playerId              \n",
       "36                  55\n",
       "38                  19\n",
       "48                 213\n",
       "54                  52\n",
       "56                   8"
      ]
     },
     "execution_count": 50,
     "metadata": {},
     "output_type": "execute_result"
    }
   ],
   "source": [
    "#To count how many times each player attempted Air duels \n",
    "player_tot_result=player_tot_result.groupby(\"playerId\").count()\n",
    "player_tot_result.head(5)"
   ]
  },
  {
   "cell_type": "code",
   "execution_count": 51,
   "metadata": {},
   "outputs": [
    {
     "data": {
      "text/html": [
       "<div>\n",
       "<style scoped>\n",
       "    .dataframe tbody tr th:only-of-type {\n",
       "        vertical-align: middle;\n",
       "    }\n",
       "\n",
       "    .dataframe tbody tr th {\n",
       "        vertical-align: top;\n",
       "    }\n",
       "\n",
       "    .dataframe thead th {\n",
       "        text-align: right;\n",
       "    }\n",
       "</style>\n",
       "<table border=\"1\" class=\"dataframe\">\n",
       "  <thead>\n",
       "    <tr style=\"text-align: right;\">\n",
       "      <th></th>\n",
       "      <th>playerId</th>\n",
       "      <th>TotalAirDuels</th>\n",
       "    </tr>\n",
       "  </thead>\n",
       "  <tbody>\n",
       "    <tr>\n",
       "      <th>0</th>\n",
       "      <td>36</td>\n",
       "      <td>55</td>\n",
       "    </tr>\n",
       "    <tr>\n",
       "      <th>1</th>\n",
       "      <td>38</td>\n",
       "      <td>19</td>\n",
       "    </tr>\n",
       "    <tr>\n",
       "      <th>2</th>\n",
       "      <td>48</td>\n",
       "      <td>213</td>\n",
       "    </tr>\n",
       "    <tr>\n",
       "      <th>3</th>\n",
       "      <td>54</td>\n",
       "      <td>52</td>\n",
       "    </tr>\n",
       "    <tr>\n",
       "      <th>4</th>\n",
       "      <td>56</td>\n",
       "      <td>8</td>\n",
       "    </tr>\n",
       "  </tbody>\n",
       "</table>\n",
       "</div>"
      ],
      "text/plain": [
       "   playerId  TotalAirDuels\n",
       "0        36             55\n",
       "1        38             19\n",
       "2        48            213\n",
       "3        54             52\n",
       "4        56              8"
      ]
     },
     "execution_count": 51,
     "metadata": {},
     "output_type": "execute_result"
    }
   ],
   "source": [
    "player_tot_result.reset_index(level=0, inplace=True)\n",
    "\n",
    "#the table contains player id and total air dules attempts\n",
    "player_tot_result.columns=[\"playerId\",\"TotalAirDuels\"]\n",
    "player_tot_result.head(5)"
   ]
  },
  {
   "cell_type": "code",
   "execution_count": 52,
   "metadata": {},
   "outputs": [
    {
     "data": {
      "text/plain": [
       "(468,)"
      ]
     },
     "execution_count": 52,
     "metadata": {},
     "output_type": "execute_result"
    }
   ],
   "source": [
    "#players ids without Duplication, to know the actual number of palyers\n",
    "all_player= air_duals['playerId'].unique()\n",
    "all_player.shape"
   ]
  },
  {
   "cell_type": "code",
   "execution_count": 53,
   "metadata": {},
   "outputs": [],
   "source": [
    "\n",
    "#new dict where unique players ids and the result of their passes\n",
    "pasess={} #new dic to store multi values for one palyer \n",
    "for i in all_player:\n",
    "    pasess.update({i:[]}) #add all unique players\n",
    "    \n",
    "for x in pasess:\n",
    "    for i in range(len(air_duals)):\n",
    "        if x == air_duals.iloc[i,3]: #if the id of the player same as in main df\n",
    "            pasess[x].append(air_duals.iloc[i,6])\n",
    "#add what is the Final_Result main df to player's id 1801 or 1802\n",
    "\n",
    "\n",
    "\n"
   ]
  },
  {
   "cell_type": "code",
   "execution_count": 43,
   "metadata": {},
   "outputs": [],
   "source": [
    "pasess\n",
    "#dict contains each player as key and the result of all the attempts "
   ]
  },
  {
   "cell_type": "code",
   "execution_count": 54,
   "metadata": {},
   "outputs": [],
   "source": [
    "#Counting the Successful Attempts\n",
    "won_pasess={}\n",
    "for i in pasess:\n",
    "    counter=0\n",
    "    for k in pasess[i]:\n",
    "        if k ==1801:\n",
    "            counter=counter+1\n",
    "\n",
    "        won_pasess.update({i:counter})\n",
    "        "
   ]
  },
  {
   "cell_type": "code",
   "execution_count": 46,
   "metadata": {},
   "outputs": [],
   "source": [
    "won_pasess\n",
    "#dict contains each player id and number of won air duels"
   ]
  },
  {
   "cell_type": "code",
   "execution_count": 55,
   "metadata": {},
   "outputs": [
    {
     "data": {
      "text/html": [
       "<div>\n",
       "<style scoped>\n",
       "    .dataframe tbody tr th:only-of-type {\n",
       "        vertical-align: middle;\n",
       "    }\n",
       "\n",
       "    .dataframe tbody tr th {\n",
       "        vertical-align: top;\n",
       "    }\n",
       "\n",
       "    .dataframe thead th {\n",
       "        text-align: right;\n",
       "    }\n",
       "</style>\n",
       "<table border=\"1\" class=\"dataframe\">\n",
       "  <thead>\n",
       "    <tr style=\"text-align: right;\">\n",
       "      <th></th>\n",
       "      <th>0</th>\n",
       "    </tr>\n",
       "  </thead>\n",
       "  <tbody>\n",
       "    <tr>\n",
       "      <th>337225</th>\n",
       "      <td>4</td>\n",
       "    </tr>\n",
       "    <tr>\n",
       "      <th>25604</th>\n",
       "      <td>2</td>\n",
       "    </tr>\n",
       "    <tr>\n",
       "      <th>104851</th>\n",
       "      <td>5</td>\n",
       "    </tr>\n",
       "    <tr>\n",
       "      <th>7974</th>\n",
       "      <td>12</td>\n",
       "    </tr>\n",
       "  </tbody>\n",
       "</table>\n",
       "</div>"
      ],
      "text/plain": [
       "         0\n",
       "337225   4\n",
       "25604    2\n",
       "104851   5\n",
       "7974    12"
      ]
     },
     "execution_count": 55,
     "metadata": {},
     "output_type": "execute_result"
    }
   ],
   "source": [
    "#Convert dict to New DF contain players id and only successful Attempta\n",
    "allwins=pd.DataFrame(won_pasess, index=[0] )\n",
    "allwins=allwins.T\n",
    "allwins.head(4)"
   ]
  },
  {
   "cell_type": "code",
   "execution_count": 56,
   "metadata": {},
   "outputs": [],
   "source": [
    "allwins=allwins.reset_index()"
   ]
  },
  {
   "cell_type": "code",
   "execution_count": 57,
   "metadata": {
    "scrolled": true
   },
   "outputs": [
    {
     "data": {
      "text/html": [
       "<div>\n",
       "<style scoped>\n",
       "    .dataframe tbody tr th:only-of-type {\n",
       "        vertical-align: middle;\n",
       "    }\n",
       "\n",
       "    .dataframe tbody tr th {\n",
       "        vertical-align: top;\n",
       "    }\n",
       "\n",
       "    .dataframe thead th {\n",
       "        text-align: right;\n",
       "    }\n",
       "</style>\n",
       "<table border=\"1\" class=\"dataframe\">\n",
       "  <thead>\n",
       "    <tr style=\"text-align: right;\">\n",
       "      <th></th>\n",
       "      <th>playerId</th>\n",
       "      <th>WonAirDuels</th>\n",
       "    </tr>\n",
       "  </thead>\n",
       "  <tbody>\n",
       "    <tr>\n",
       "      <th>0</th>\n",
       "      <td>337225</td>\n",
       "      <td>4</td>\n",
       "    </tr>\n",
       "    <tr>\n",
       "      <th>1</th>\n",
       "      <td>25604</td>\n",
       "      <td>2</td>\n",
       "    </tr>\n",
       "    <tr>\n",
       "      <th>2</th>\n",
       "      <td>104851</td>\n",
       "      <td>5</td>\n",
       "    </tr>\n",
       "  </tbody>\n",
       "</table>\n",
       "</div>"
      ],
      "text/plain": [
       "   playerId  WonAirDuels\n",
       "0    337225            4\n",
       "1     25604            2\n",
       "2    104851            5"
      ]
     },
     "execution_count": 57,
     "metadata": {},
     "output_type": "execute_result"
    }
   ],
   "source": [
    "allwins.columns=['playerId','WonAirDuels']\n",
    "allwins.head(3)\n",
    "# allwins.shape"
   ]
  },
  {
   "cell_type": "code",
   "execution_count": 58,
   "metadata": {},
   "outputs": [],
   "source": [
    "# Merge two tables: \n",
    "#1-table of the won air duels >> allwins\n",
    "#2- for all attempts of air duels >> player_tot_result\n",
    "\n",
    "player_win_total=pd.merge(allwins, player_tot_result, on=\"playerId\")"
   ]
  },
  {
   "cell_type": "code",
   "execution_count": 59,
   "metadata": {
    "scrolled": true
   },
   "outputs": [
    {
     "data": {
      "text/html": [
       "<div>\n",
       "<style scoped>\n",
       "    .dataframe tbody tr th:only-of-type {\n",
       "        vertical-align: middle;\n",
       "    }\n",
       "\n",
       "    .dataframe tbody tr th {\n",
       "        vertical-align: top;\n",
       "    }\n",
       "\n",
       "    .dataframe thead th {\n",
       "        text-align: right;\n",
       "    }\n",
       "</style>\n",
       "<table border=\"1\" class=\"dataframe\">\n",
       "  <thead>\n",
       "    <tr style=\"text-align: right;\">\n",
       "      <th></th>\n",
       "      <th>playerId</th>\n",
       "      <th>WonAirDuels</th>\n",
       "      <th>TotalAirDuels</th>\n",
       "    </tr>\n",
       "  </thead>\n",
       "  <tbody>\n",
       "    <tr>\n",
       "      <th>0</th>\n",
       "      <td>337225</td>\n",
       "      <td>4</td>\n",
       "      <td>6</td>\n",
       "    </tr>\n",
       "    <tr>\n",
       "      <th>1</th>\n",
       "      <td>25604</td>\n",
       "      <td>2</td>\n",
       "      <td>5</td>\n",
       "    </tr>\n",
       "    <tr>\n",
       "      <th>2</th>\n",
       "      <td>104851</td>\n",
       "      <td>5</td>\n",
       "      <td>5</td>\n",
       "    </tr>\n",
       "    <tr>\n",
       "      <th>3</th>\n",
       "      <td>7974</td>\n",
       "      <td>12</td>\n",
       "      <td>13</td>\n",
       "    </tr>\n",
       "    <tr>\n",
       "      <th>4</th>\n",
       "      <td>8004</td>\n",
       "      <td>59</td>\n",
       "      <td>106</td>\n",
       "    </tr>\n",
       "  </tbody>\n",
       "</table>\n",
       "</div>"
      ],
      "text/plain": [
       "   playerId  WonAirDuels  TotalAirDuels\n",
       "0    337225            4              6\n",
       "1     25604            2              5\n",
       "2    104851            5              5\n",
       "3      7974           12             13\n",
       "4      8004           59            106"
      ]
     },
     "execution_count": 59,
     "metadata": {},
     "output_type": "execute_result"
    }
   ],
   "source": [
    "player_win_total.head(5)"
   ]
  },
  {
   "cell_type": "code",
   "execution_count": 60,
   "metadata": {},
   "outputs": [
    {
     "data": {
      "text/plain": [
       "(468, 3)"
      ]
     },
     "execution_count": 60,
     "metadata": {},
     "output_type": "execute_result"
    }
   ],
   "source": [
    "player_win_total.shape\n",
    "#to check actual number of player"
   ]
  },
  {
   "cell_type": "code",
   "execution_count": 61,
   "metadata": {},
   "outputs": [],
   "source": [
    "#the ratio\n",
    "player_win_total[\"Ratio\"]= round (player_win_total['WonAirDuels']/player_win_total['TotalAirDuels'],2)"
   ]
  },
  {
   "cell_type": "code",
   "execution_count": 62,
   "metadata": {},
   "outputs": [
    {
     "data": {
      "text/html": [
       "<div>\n",
       "<style scoped>\n",
       "    .dataframe tbody tr th:only-of-type {\n",
       "        vertical-align: middle;\n",
       "    }\n",
       "\n",
       "    .dataframe tbody tr th {\n",
       "        vertical-align: top;\n",
       "    }\n",
       "\n",
       "    .dataframe thead th {\n",
       "        text-align: right;\n",
       "    }\n",
       "</style>\n",
       "<table border=\"1\" class=\"dataframe\">\n",
       "  <thead>\n",
       "    <tr style=\"text-align: right;\">\n",
       "      <th></th>\n",
       "      <th>playerId</th>\n",
       "      <th>WonAirDuels</th>\n",
       "      <th>TotalAirDuels</th>\n",
       "      <th>Ratio</th>\n",
       "    </tr>\n",
       "  </thead>\n",
       "  <tbody>\n",
       "    <tr>\n",
       "      <th>0</th>\n",
       "      <td>337225</td>\n",
       "      <td>4</td>\n",
       "      <td>6</td>\n",
       "      <td>0.67</td>\n",
       "    </tr>\n",
       "    <tr>\n",
       "      <th>1</th>\n",
       "      <td>25604</td>\n",
       "      <td>2</td>\n",
       "      <td>5</td>\n",
       "      <td>0.40</td>\n",
       "    </tr>\n",
       "    <tr>\n",
       "      <th>2</th>\n",
       "      <td>104851</td>\n",
       "      <td>5</td>\n",
       "      <td>5</td>\n",
       "      <td>1.00</td>\n",
       "    </tr>\n",
       "    <tr>\n",
       "      <th>3</th>\n",
       "      <td>7974</td>\n",
       "      <td>12</td>\n",
       "      <td>13</td>\n",
       "      <td>0.92</td>\n",
       "    </tr>\n",
       "  </tbody>\n",
       "</table>\n",
       "</div>"
      ],
      "text/plain": [
       "   playerId  WonAirDuels  TotalAirDuels  Ratio\n",
       "0    337225            4              6   0.67\n",
       "1     25604            2              5   0.40\n",
       "2    104851            5              5   1.00\n",
       "3      7974           12             13   0.92"
      ]
     },
     "execution_count": 62,
     "metadata": {},
     "output_type": "execute_result"
    }
   ],
   "source": [
    "player_win_total.head(4)"
   ]
  },
  {
   "cell_type": "code",
   "execution_count": 63,
   "metadata": {},
   "outputs": [],
   "source": [
    "#add back the height of players\n",
    "final_df=pd.merge(air_duals,player_win_total , on='playerId')"
   ]
  },
  {
   "cell_type": "code",
   "execution_count": 64,
   "metadata": {},
   "outputs": [
    {
     "data": {
      "text/html": [
       "<div>\n",
       "<style scoped>\n",
       "    .dataframe tbody tr th:only-of-type {\n",
       "        vertical-align: middle;\n",
       "    }\n",
       "\n",
       "    .dataframe tbody tr th {\n",
       "        vertical-align: top;\n",
       "    }\n",
       "\n",
       "    .dataframe thead th {\n",
       "        text-align: right;\n",
       "    }\n",
       "</style>\n",
       "<table border=\"1\" class=\"dataframe\">\n",
       "  <thead>\n",
       "    <tr style=\"text-align: right;\">\n",
       "      <th></th>\n",
       "      <th>Country</th>\n",
       "      <th>height</th>\n",
       "      <th>shortName</th>\n",
       "      <th>playerId</th>\n",
       "      <th>subEventName</th>\n",
       "      <th>tags</th>\n",
       "      <th>PassResult</th>\n",
       "      <th>Final_Result</th>\n",
       "      <th>WonAirDuels</th>\n",
       "      <th>TotalAirDuels</th>\n",
       "      <th>Ratio</th>\n",
       "    </tr>\n",
       "  </thead>\n",
       "  <tbody>\n",
       "    <tr>\n",
       "      <th>0</th>\n",
       "      <td>England</td>\n",
       "      <td>175</td>\n",
       "      <td>R. Aarons</td>\n",
       "      <td>337225</td>\n",
       "      <td>Air duel</td>\n",
       "      <td>[{'id': 702}, {'id': 1801}]</td>\n",
       "      <td>1801</td>\n",
       "      <td>Won</td>\n",
       "      <td>4</td>\n",
       "      <td>6</td>\n",
       "      <td>0.67</td>\n",
       "    </tr>\n",
       "    <tr>\n",
       "      <th>1</th>\n",
       "      <td>England</td>\n",
       "      <td>175</td>\n",
       "      <td>R. Aarons</td>\n",
       "      <td>337225</td>\n",
       "      <td>Air duel</td>\n",
       "      <td>[{'id': 702}, {'id': 1801}]</td>\n",
       "      <td>1801</td>\n",
       "      <td>Won</td>\n",
       "      <td>4</td>\n",
       "      <td>6</td>\n",
       "      <td>0.67</td>\n",
       "    </tr>\n",
       "    <tr>\n",
       "      <th>2</th>\n",
       "      <td>England</td>\n",
       "      <td>175</td>\n",
       "      <td>R. Aarons</td>\n",
       "      <td>337225</td>\n",
       "      <td>Air duel</td>\n",
       "      <td>[{'id': 1901}, {'id': 701}, {'id': 1802}]</td>\n",
       "      <td>1802</td>\n",
       "      <td>Lose</td>\n",
       "      <td>4</td>\n",
       "      <td>6</td>\n",
       "      <td>0.67</td>\n",
       "    </tr>\n",
       "  </tbody>\n",
       "</table>\n",
       "</div>"
      ],
      "text/plain": [
       "  Country   height  shortName  playerId subEventName  \\\n",
       "0  England     175  R. Aarons    337225     Air duel   \n",
       "1  England     175  R. Aarons    337225     Air duel   \n",
       "2  England     175  R. Aarons    337225     Air duel   \n",
       "\n",
       "                                        tags  PassResult Final_Result  \\\n",
       "0                [{'id': 702}, {'id': 1801}]        1801          Won   \n",
       "1                [{'id': 702}, {'id': 1801}]        1801          Won   \n",
       "2  [{'id': 1901}, {'id': 701}, {'id': 1802}]        1802         Lose   \n",
       "\n",
       "   WonAirDuels  TotalAirDuels  Ratio  \n",
       "0            4              6   0.67  \n",
       "1            4              6   0.67  \n",
       "2            4              6   0.67  "
      ]
     },
     "execution_count": 64,
     "metadata": {},
     "output_type": "execute_result"
    }
   ],
   "source": [
    "final_df.head(3)"
   ]
  },
  {
   "cell_type": "code",
   "execution_count": 65,
   "metadata": {},
   "outputs": [
    {
     "data": {
      "text/plain": [
       "159"
      ]
     },
     "execution_count": 65,
     "metadata": {},
     "output_type": "execute_result"
    }
   ],
   "source": [
    "#the threshold , to avoid the multi attempts of each player \n",
    "#The mean of TotalAirDuels<Total air duals / number of players>\n",
    "threshold=round (final_df.TotalAirDuels.mean())\n",
    "threshold"
   ]
  },
  {
   "cell_type": "code",
   "execution_count": 66,
   "metadata": {},
   "outputs": [
    {
     "data": {
      "text/plain": [
       "497"
      ]
     },
     "execution_count": 66,
     "metadata": {},
     "output_type": "execute_result"
    }
   ],
   "source": [
    "#maximum trial \n",
    "player_win_total.TotalAirDuels.max()"
   ]
  },
  {
   "cell_type": "code",
   "execution_count": 67,
   "metadata": {},
   "outputs": [],
   "source": [
    "#To drop players who don’t satisfy the threshold\n",
    "final_df=final_df.drop(final_df[final_df.TotalAirDuels>threshold].index)"
   ]
  },
  {
   "cell_type": "code",
   "execution_count": 68,
   "metadata": {},
   "outputs": [
    {
     "data": {
      "text/plain": [
       "(19213, 11)"
      ]
     },
     "execution_count": 68,
     "metadata": {},
     "output_type": "execute_result"
    }
   ],
   "source": [
    "#before dropping with repitition\n",
    "final_df.shape"
   ]
  },
  {
   "cell_type": "code",
   "execution_count": 69,
   "metadata": {
    "scrolled": true
   },
   "outputs": [
    {
     "data": {
      "text/html": [
       "<div>\n",
       "<style scoped>\n",
       "    .dataframe tbody tr th:only-of-type {\n",
       "        vertical-align: middle;\n",
       "    }\n",
       "\n",
       "    .dataframe tbody tr th {\n",
       "        vertical-align: top;\n",
       "    }\n",
       "\n",
       "    .dataframe thead th {\n",
       "        text-align: right;\n",
       "    }\n",
       "</style>\n",
       "<table border=\"1\" class=\"dataframe\">\n",
       "  <thead>\n",
       "    <tr style=\"text-align: right;\">\n",
       "      <th></th>\n",
       "      <th>Country</th>\n",
       "      <th>height</th>\n",
       "      <th>shortName</th>\n",
       "      <th>playerId</th>\n",
       "      <th>subEventName</th>\n",
       "      <th>tags</th>\n",
       "      <th>PassResult</th>\n",
       "      <th>Final_Result</th>\n",
       "      <th>WonAirDuels</th>\n",
       "      <th>TotalAirDuels</th>\n",
       "      <th>Ratio</th>\n",
       "    </tr>\n",
       "  </thead>\n",
       "  <tbody>\n",
       "    <tr>\n",
       "      <th>0</th>\n",
       "      <td>England</td>\n",
       "      <td>175</td>\n",
       "      <td>R. Aarons</td>\n",
       "      <td>337225</td>\n",
       "      <td>Air duel</td>\n",
       "      <td>[{'id': 702}, {'id': 1801}]</td>\n",
       "      <td>1801</td>\n",
       "      <td>Won</td>\n",
       "      <td>4</td>\n",
       "      <td>6</td>\n",
       "      <td>0.67</td>\n",
       "    </tr>\n",
       "    <tr>\n",
       "      <th>1</th>\n",
       "      <td>England</td>\n",
       "      <td>175</td>\n",
       "      <td>R. Aarons</td>\n",
       "      <td>337225</td>\n",
       "      <td>Air duel</td>\n",
       "      <td>[{'id': 702}, {'id': 1801}]</td>\n",
       "      <td>1801</td>\n",
       "      <td>Won</td>\n",
       "      <td>4</td>\n",
       "      <td>6</td>\n",
       "      <td>0.67</td>\n",
       "    </tr>\n",
       "    <tr>\n",
       "      <th>2</th>\n",
       "      <td>England</td>\n",
       "      <td>175</td>\n",
       "      <td>R. Aarons</td>\n",
       "      <td>337225</td>\n",
       "      <td>Air duel</td>\n",
       "      <td>[{'id': 1901}, {'id': 701}, {'id': 1802}]</td>\n",
       "      <td>1802</td>\n",
       "      <td>Lose</td>\n",
       "      <td>4</td>\n",
       "      <td>6</td>\n",
       "      <td>0.67</td>\n",
       "    </tr>\n",
       "    <tr>\n",
       "      <th>3</th>\n",
       "      <td>England</td>\n",
       "      <td>175</td>\n",
       "      <td>R. Aarons</td>\n",
       "      <td>337225</td>\n",
       "      <td>Air duel</td>\n",
       "      <td>[{'id': 703}, {'id': 1801}]</td>\n",
       "      <td>1801</td>\n",
       "      <td>Won</td>\n",
       "      <td>4</td>\n",
       "      <td>6</td>\n",
       "      <td>0.67</td>\n",
       "    </tr>\n",
       "    <tr>\n",
       "      <th>4</th>\n",
       "      <td>England</td>\n",
       "      <td>175</td>\n",
       "      <td>R. Aarons</td>\n",
       "      <td>337225</td>\n",
       "      <td>Air duel</td>\n",
       "      <td>[{'id': 703}, {'id': 1801}]</td>\n",
       "      <td>1801</td>\n",
       "      <td>Won</td>\n",
       "      <td>4</td>\n",
       "      <td>6</td>\n",
       "      <td>0.67</td>\n",
       "    </tr>\n",
       "  </tbody>\n",
       "</table>\n",
       "</div>"
      ],
      "text/plain": [
       "  Country   height  shortName  playerId subEventName  \\\n",
       "0  England     175  R. Aarons    337225     Air duel   \n",
       "1  England     175  R. Aarons    337225     Air duel   \n",
       "2  England     175  R. Aarons    337225     Air duel   \n",
       "3  England     175  R. Aarons    337225     Air duel   \n",
       "4  England     175  R. Aarons    337225     Air duel   \n",
       "\n",
       "                                        tags  PassResult Final_Result  \\\n",
       "0                [{'id': 702}, {'id': 1801}]        1801          Won   \n",
       "1                [{'id': 702}, {'id': 1801}]        1801          Won   \n",
       "2  [{'id': 1901}, {'id': 701}, {'id': 1802}]        1802         Lose   \n",
       "3                [{'id': 703}, {'id': 1801}]        1801          Won   \n",
       "4                [{'id': 703}, {'id': 1801}]        1801          Won   \n",
       "\n",
       "   WonAirDuels  TotalAirDuels  Ratio  \n",
       "0            4              6   0.67  \n",
       "1            4              6   0.67  \n",
       "2            4              6   0.67  \n",
       "3            4              6   0.67  \n",
       "4            4              6   0.67  "
      ]
     },
     "execution_count": 69,
     "metadata": {},
     "output_type": "execute_result"
    }
   ],
   "source": [
    "final_df.head(5)"
   ]
  },
  {
   "cell_type": "code",
   "execution_count": 70,
   "metadata": {},
   "outputs": [],
   "source": [
    "#drop duplicated rows\n",
    "final_df=final_df.drop_duplicates('playerId') \n"
   ]
  },
  {
   "cell_type": "code",
   "execution_count": 71,
   "metadata": {
    "scrolled": true
   },
   "outputs": [
    {
     "data": {
      "text/html": [
       "<div>\n",
       "<style scoped>\n",
       "    .dataframe tbody tr th:only-of-type {\n",
       "        vertical-align: middle;\n",
       "    }\n",
       "\n",
       "    .dataframe tbody tr th {\n",
       "        vertical-align: top;\n",
       "    }\n",
       "\n",
       "    .dataframe thead th {\n",
       "        text-align: right;\n",
       "    }\n",
       "</style>\n",
       "<table border=\"1\" class=\"dataframe\">\n",
       "  <thead>\n",
       "    <tr style=\"text-align: right;\">\n",
       "      <th></th>\n",
       "      <th>Country</th>\n",
       "      <th>height</th>\n",
       "      <th>shortName</th>\n",
       "      <th>playerId</th>\n",
       "      <th>subEventName</th>\n",
       "      <th>tags</th>\n",
       "      <th>PassResult</th>\n",
       "      <th>Final_Result</th>\n",
       "      <th>WonAirDuels</th>\n",
       "      <th>TotalAirDuels</th>\n",
       "      <th>Ratio</th>\n",
       "    </tr>\n",
       "  </thead>\n",
       "  <tbody>\n",
       "    <tr>\n",
       "      <th>0</th>\n",
       "      <td>England</td>\n",
       "      <td>175</td>\n",
       "      <td>R. Aarons</td>\n",
       "      <td>337225</td>\n",
       "      <td>Air duel</td>\n",
       "      <td>[{'id': 702}, {'id': 1801}]</td>\n",
       "      <td>1801</td>\n",
       "      <td>Won</td>\n",
       "      <td>4</td>\n",
       "      <td>6</td>\n",
       "      <td>0.67</td>\n",
       "    </tr>\n",
       "    <tr>\n",
       "      <th>6</th>\n",
       "      <td>England</td>\n",
       "      <td>175</td>\n",
       "      <td>H. Saivet</td>\n",
       "      <td>25604</td>\n",
       "      <td>Air duel</td>\n",
       "      <td>[{'id': 701}, {'id': 1802}]</td>\n",
       "      <td>1802</td>\n",
       "      <td>Lose</td>\n",
       "      <td>2</td>\n",
       "      <td>5</td>\n",
       "      <td>0.40</td>\n",
       "    </tr>\n",
       "    <tr>\n",
       "      <th>11</th>\n",
       "      <td>England</td>\n",
       "      <td>191</td>\n",
       "      <td>M. D\\u00fabravka</td>\n",
       "      <td>104851</td>\n",
       "      <td>Air duel</td>\n",
       "      <td>[{'id': 703}, {'id': 1801}]</td>\n",
       "      <td>1801</td>\n",
       "      <td>Won</td>\n",
       "      <td>5</td>\n",
       "      <td>5</td>\n",
       "      <td>1.00</td>\n",
       "    </tr>\n",
       "    <tr>\n",
       "      <th>16</th>\n",
       "      <td>England</td>\n",
       "      <td>188</td>\n",
       "      <td>R. Elliot</td>\n",
       "      <td>7974</td>\n",
       "      <td>Air duel</td>\n",
       "      <td>[{'id': 703}, {'id': 1801}]</td>\n",
       "      <td>1801</td>\n",
       "      <td>Won</td>\n",
       "      <td>12</td>\n",
       "      <td>13</td>\n",
       "      <td>0.92</td>\n",
       "    </tr>\n",
       "    <tr>\n",
       "      <th>29</th>\n",
       "      <td>England</td>\n",
       "      <td>188</td>\n",
       "      <td>C. Clark</td>\n",
       "      <td>8004</td>\n",
       "      <td>Air duel</td>\n",
       "      <td>[{'id': 703}, {'id': 1801}]</td>\n",
       "      <td>1801</td>\n",
       "      <td>Won</td>\n",
       "      <td>59</td>\n",
       "      <td>106</td>\n",
       "      <td>0.56</td>\n",
       "    </tr>\n",
       "  </tbody>\n",
       "</table>\n",
       "</div>"
      ],
      "text/plain": [
       "   Country   height         shortName  playerId subEventName  \\\n",
       "0   England     175         R. Aarons    337225     Air duel   \n",
       "6   England     175         H. Saivet     25604     Air duel   \n",
       "11  England     191  M. D\\u00fabravka    104851     Air duel   \n",
       "16  England     188         R. Elliot      7974     Air duel   \n",
       "29  England     188          C. Clark      8004     Air duel   \n",
       "\n",
       "                           tags  PassResult Final_Result  WonAirDuels  \\\n",
       "0   [{'id': 702}, {'id': 1801}]        1801          Won            4   \n",
       "6   [{'id': 701}, {'id': 1802}]        1802         Lose            2   \n",
       "11  [{'id': 703}, {'id': 1801}]        1801          Won            5   \n",
       "16  [{'id': 703}, {'id': 1801}]        1801          Won           12   \n",
       "29  [{'id': 703}, {'id': 1801}]        1801          Won           59   \n",
       "\n",
       "    TotalAirDuels  Ratio  \n",
       "0               6   0.67  \n",
       "6               5   0.40  \n",
       "11              5   1.00  \n",
       "16             13   0.92  \n",
       "29            106   0.56  "
      ]
     },
     "execution_count": 71,
     "metadata": {},
     "output_type": "execute_result"
    }
   ],
   "source": [
    "final_df.head(5)"
   ]
  },
  {
   "cell_type": "code",
   "execution_count": 72,
   "metadata": {},
   "outputs": [
    {
     "data": {
      "text/plain": [
       "(412, 11)"
      ]
     },
     "execution_count": 72,
     "metadata": {},
     "output_type": "execute_result"
    }
   ],
   "source": [
    "#After the droping\n",
    "#to check number of players and how many were eliminated \n",
    "final_df.shape"
   ]
  },
  {
   "cell_type": "code",
   "execution_count": 73,
   "metadata": {},
   "outputs": [],
   "source": [
    "#New table for plotting\n",
    "scatter_plot=final_df[[\"playerId\",\"height\",'Ratio']]"
   ]
  },
  {
   "cell_type": "code",
   "execution_count": 74,
   "metadata": {
    "scrolled": true
   },
   "outputs": [
    {
     "data": {
      "text/html": [
       "<div>\n",
       "<style scoped>\n",
       "    .dataframe tbody tr th:only-of-type {\n",
       "        vertical-align: middle;\n",
       "    }\n",
       "\n",
       "    .dataframe tbody tr th {\n",
       "        vertical-align: top;\n",
       "    }\n",
       "\n",
       "    .dataframe thead th {\n",
       "        text-align: right;\n",
       "    }\n",
       "</style>\n",
       "<table border=\"1\" class=\"dataframe\">\n",
       "  <thead>\n",
       "    <tr style=\"text-align: right;\">\n",
       "      <th></th>\n",
       "      <th>playerId</th>\n",
       "      <th>height</th>\n",
       "      <th>Ratio</th>\n",
       "    </tr>\n",
       "  </thead>\n",
       "  <tbody>\n",
       "    <tr>\n",
       "      <th>0</th>\n",
       "      <td>337225</td>\n",
       "      <td>175</td>\n",
       "      <td>0.67</td>\n",
       "    </tr>\n",
       "    <tr>\n",
       "      <th>6</th>\n",
       "      <td>25604</td>\n",
       "      <td>175</td>\n",
       "      <td>0.40</td>\n",
       "    </tr>\n",
       "    <tr>\n",
       "      <th>11</th>\n",
       "      <td>104851</td>\n",
       "      <td>191</td>\n",
       "      <td>1.00</td>\n",
       "    </tr>\n",
       "    <tr>\n",
       "      <th>16</th>\n",
       "      <td>7974</td>\n",
       "      <td>188</td>\n",
       "      <td>0.92</td>\n",
       "    </tr>\n",
       "    <tr>\n",
       "      <th>29</th>\n",
       "      <td>8004</td>\n",
       "      <td>188</td>\n",
       "      <td>0.56</td>\n",
       "    </tr>\n",
       "  </tbody>\n",
       "</table>\n",
       "</div>"
      ],
      "text/plain": [
       "    playerId  height  Ratio\n",
       "0     337225     175   0.67\n",
       "6      25604     175   0.40\n",
       "11    104851     191   1.00\n",
       "16      7974     188   0.92\n",
       "29      8004     188   0.56"
      ]
     },
     "execution_count": 74,
     "metadata": {},
     "output_type": "execute_result"
    }
   ],
   "source": [
    "scatter_plot.head(5)"
   ]
  },
  {
   "cell_type": "code",
   "execution_count": 75,
   "metadata": {},
   "outputs": [],
   "source": [
    "max_=scatter_plot.height.max()\n",
    "min_=scatter_plot.height.min()"
   ]
  },
  {
   "cell_type": "code",
   "execution_count": 76,
   "metadata": {
    "scrolled": true
   },
   "outputs": [
    {
     "data": {
      "text/plain": [
       "201"
      ]
     },
     "execution_count": 76,
     "metadata": {},
     "output_type": "execute_result"
    }
   ],
   "source": [
    "max_"
   ]
  },
  {
   "cell_type": "code",
   "execution_count": 77,
   "metadata": {},
   "outputs": [
    {
     "data": {
      "text/plain": [
       "163"
      ]
     },
     "execution_count": 77,
     "metadata": {},
     "output_type": "execute_result"
    }
   ],
   "source": [
    "min_"
   ]
  },
  {
   "cell_type": "code",
   "execution_count": 78,
   "metadata": {},
   "outputs": [
    {
     "data": {
      "text/plain": [
       "Text(0.5, 0, 'Height')"
      ]
     },
     "execution_count": 78,
     "metadata": {},
     "output_type": "execute_result"
    },
    {
     "data": {
      "image/png": "[encoded data removed]",
      "text/plain": [
       "<Figure size 432x288 with 2 Axes>"
      ]
     },
     "metadata": {
      "needs_background": "light"
     },
     "output_type": "display_data"
    }
   ],
   "source": [
    "x=scatter_plot.height\n",
    "y=scatter_plot.Ratio\n",
    "color=scatter_plot.height\n",
    "plt.scatter(x, y, c=color)\n",
    "plt.colorbar()\n",
    "plt.title(\"Relation between height of player and air duels wining ratio\")\n",
    "plt.ylabel(\"Winning Ratio\")\n",
    "plt.xlabel(\"Height\")"
   ]
  },
  {
   "cell_type": "code",
   "execution_count": null,
   "metadata": {},
   "outputs": [],
   "source": []
  }
 ],
 "metadata": {
  "kernelspec": {
   "display_name": "Python 3",
   "language": "python",
   "name": "python3"
  },
  "language_info": {
   "codemirror_mode": {
    "name": "ipython",
    "version": 3
   },
   "file_extension": ".py",
   "mimetype": "text/x-python",
   "name": "python",
   "nbconvert_exporter": "python",
   "pygments_lexer": "ipython3",
   "version": "3.7.3"
  }
 },
 "nbformat": 4,
 "nbformat_minor": 2
}
